{
  "nbformat": 4,
  "nbformat_minor": 0,
  "metadata": {
    "colab": {
      "name": "socketProgramming{basic}.ipynb",
      "provenance": [],
      "authorship_tag": "ABX9TyOu2okwvipfgv1NNl51xQs3",
      "include_colab_link": true
    },
    "kernelspec": {
      "name": "python3",
      "display_name": "Python 3"
    }
  },
  "cells": [
    {
      "cell_type": "markdown",
      "metadata": {
        "id": "view-in-github",
        "colab_type": "text"
      },
      "source": [
        "<a href=\"https://colab.research.google.com/github/SabiulSabit/Socket-Programming/blob/master/socketProgramming%7Bbasic%7D.ipynb\" target=\"_parent\"><img src=\"https://colab.research.google.com/assets/colab-badge.svg\" alt=\"Open In Colab\"/></a>"
      ]
    },
    {
      "cell_type": "markdown",
      "metadata": {
        "id": "KABdBxZDLQzm",
        "colab_type": "text"
      },
      "source": [
        "## **Socket Create**\n",
        "\n",
        "\n"
      ]
    },
    {
      "cell_type": "code",
      "metadata": {
        "id": "3LskQqdHLD1C",
        "colab_type": "code",
        "colab": {
          "base_uri": "https://localhost:8080/",
          "height": 51
        },
        "outputId": "849cb9ee-3a46-440c-da20-921b03bb7145"
      },
      "source": [
        "from socket import *   #for sockets\n",
        "import sys  #for exit\n",
        "\n",
        "#We will create a socket, connect to gmail server\n",
        "\n",
        "\n",
        "#create an AF_INET, STREAM socket (TCP)\n",
        "s = socket(AF_INET,SOCK_STREAM)\n",
        " \n",
        "print ('Socket Created\\n')"
      ],
      "execution_count": 14,
      "outputs": [
        {
          "output_type": "stream",
          "text": [
            "Socket Created\n",
            "\n"
          ],
          "name": "stdout"
        }
      ]
    },
    {
      "cell_type": "markdown",
      "metadata": {
        "id": "6DDR6qFJMSZy",
        "colab_type": "text"
      },
      "source": [
        "## **Select Destination and its Port Number**"
      ]
    },
    {
      "cell_type": "code",
      "metadata": {
        "id": "rmk54d2_NWE9",
        "colab_type": "code",
        "colab": {}
      },
      "source": [
        "dest_host = 'www.gmail.com' \n",
        "dest_port = 80 # for https"
      ],
      "execution_count": 15,
      "outputs": []
    },
    {
      "cell_type": "markdown",
      "metadata": {
        "id": "oLjSeZeFNe5t",
        "colab_type": "text"
      },
      "source": [
        "## **Get Destination IP**"
      ]
    },
    {
      "cell_type": "code",
      "metadata": {
        "id": "rUihkzSXNpYY",
        "colab_type": "code",
        "colab": {
          "base_uri": "https://localhost:8080/",
          "height": 51
        },
        "outputId": "b1b23c47-8f52-40a9-c3bd-03c736e1527f"
      },
      "source": [
        "try:\n",
        "    dest_ip = gethostbyname( dest_host )# it will return the IP of gmail server\n",
        " \n",
        "except gaierror:\n",
        "    print ('Hostname could not be resolved. Exiting\\n')\n",
        "    sys.exit()\n",
        "     \n",
        "print ('Ip address of ' + dest_host + ' is ' + dest_ip+'\\n')"
      ],
      "execution_count": 16,
      "outputs": [
        {
          "output_type": "stream",
          "text": [
            "Ip address of www.gmail.com is 108.177.126.83\n",
            "\n"
          ],
          "name": "stdout"
        }
      ]
    },
    {
      "cell_type": "markdown",
      "metadata": {
        "id": "baVgCFAYOhHH",
        "colab_type": "text"
      },
      "source": [
        "## **Connect With Server**"
      ]
    },
    {
      "cell_type": "code",
      "metadata": {
        "id": "pQdaL32pOkt1",
        "colab_type": "code",
        "colab": {
          "base_uri": "https://localhost:8080/",
          "height": 85
        },
        "outputId": "1b15a997-2777-4aee-d9cc-4466ab14351f"
      },
      "source": [
        "s.connect((dest_ip , dest_port)) # pass a single variable tuple with value\n",
        "\n",
        "#print\n",
        "print('Local/Client Socket Info = ')\n",
        "print(s.getsockname())\n",
        "\n",
        "print ('Socket Connected to ' + dest_host + ' on ip ' + dest_ip+'\\n')"
      ],
      "execution_count": 17,
      "outputs": [
        {
          "output_type": "stream",
          "text": [
            "Local/Client Socket Info = \n",
            "('172.28.0.2', 34836)\n",
            "Socket Connected to www.gmail.com on ip 108.177.126.83\n",
            "\n"
          ],
          "name": "stdout"
        }
      ]
    },
    {
      "cell_type": "markdown",
      "metadata": {
        "id": "zuoVYY0TdKVi",
        "colab_type": "text"
      },
      "source": [
        "## **HTTP Request Message & Receive Response**"
      ]
    },
    {
      "cell_type": "code",
      "metadata": {
        "id": "e9H_kKOmdSFI",
        "colab_type": "code",
        "colab": {
          "base_uri": "https://localhost:8080/",
          "height": 360
        },
        "outputId": "10f08e8d-dacc-410d-e8f0-a15a113492d7"
      },
      "source": [
        "message = \"GET / HTTP/1.1\\r\\n\\r\\n\"  \n",
        "\n",
        "try :\n",
        "    #Set the whole string\n",
        "    s.sendall(message.encode()) #python3 converts string into bytes\n",
        "except error:\n",
        "    #Send failed\n",
        "    print ('Send failed')\n",
        "    sys.exit()\n",
        "\n",
        "print ('Message sent successfully')\n",
        "\n",
        "#Receive Response\n",
        "reply = s.recv(4096)#It must take a parameter which is the max size in bytes of the recieved message, generally a power of 2 \n",
        "\n",
        "print(reply.decode())\n",
        "print(len(reply.decode()))\n",
        "\n",
        "\n",
        "#close the socket\n",
        "s.close()"
      ],
      "execution_count": 18,
      "outputs": [
        {
          "output_type": "stream",
          "text": [
            "Message sent successfully\n",
            "HTTP/1.1 200 OK\r\n",
            "Date: Wed, 09 Sep 2020 15:41:16 GMT\r\n",
            "Expires: -1\r\n",
            "Cache-Control: private, max-age=0\r\n",
            "Content-Type: text/html; charset=ISO-8859-1\r\n",
            "P3P: CP=\"This is not a P3P policy! See g.co/p3phelp for more info.\"\r\n",
            "Server: gws\r\n",
            "X-XSS-Protection: 0\r\n",
            "X-Frame-Options: SAMEORIGIN\r\n",
            "Set-Cookie: 1P_JAR=2020-09-09-15; expires=Fri, 09-Oct-2020 15:41:16 GMT; path=/; domain=.google.com; Secure\r\n",
            "Set-Cookie: NID=204=viJIkaON_FPlsHn22o17vGCeI-rrtZuovRD0AqjQPBGkY9D2HlOoxP411wcFAWciyu2dbeMPlrrbtotE3mrLCnz0wi4pXySpPq_ZZ7yL8_wSADoAOWdvuRUdc4_8D8zjUlqDMlQTUxUD9lj7sGahvr8wnre6DI72SrholYR65Ko; expires=Thu, 11-Mar-2021 15:41:16 GMT; path=/; domain=.google.com; HttpOnly\r\n",
            "Accept-Ranges: none\r\n",
            "Vary: Accept-Encoding\r\n",
            "Transfer-Encoding: chunked\r\n",
            "\r\n",
            "2000\r\n",
            "<!doctype html><html itemscope=\"\" itemtype=\"http://schema.org/WebPage\" lang=\"en\"><head><meta content=\"Search the world's information, including webpages, images, videos and more. Google has many special features to help you find exactly what you're looking for.\" name=\"description\"><meta content=\"noodp\" name=\"robots\"><meta content=\"text/html; charset=UTF-8\" http-equiv=\"Content-Type\"><meta content=\"/images/branding/googleg/1x/googleg_standard_color_128dp.png\" itemprop=\"image\"><title>Google</title><script nonce=\"Nn5NOoVv9pqgjJfWy4Zwbg==\">(function(){window.google={kEI:'nPdYX6bUAY60sAeTqI3wBw',kEXPI:'0,202162,1151584,5663,731,223,5104,207,3204,10,1226,364,1499,611,206,383,246,5,1354,648,653,2799,133,5,134,42,3,66,307,44,86,16,314,217,132,139,2,10,866,116,44,140,31,236,409,212,648,258,1119056,1197728,538,329001,13677,4854,32693,15247,867,28684,9188,8384,4859,1361,9290,3023,2821,1918,6,7,11026,1808,4020,978,7931,5297,2054,920,873,4192,2784,3646,1142,6290,7095,4517,2778,919,2277,8,2796,1593,1279,2212,532,147,1103,840,517,1466,56,4258,109,203,1135,1,3,2063,606,2023,1777,143,377,1704,243,2229,93,328,1284,16,2927,2246,1813,1787,3227,1030,1815,7,2903,2696,469,6286,4454,642,2449,3685,1743,4928,108,2854,553,908,2,941,2614,2397,1027,361,6080,1,1705,473,666,432,3,1590,1,820,1,4623,149,189,888,2425,1461,1027,2252,3942,173,1618,4,1448,80,2304,1236,271,874,405,1259,601,2095,298,74,463,42,239,973,52,214,2163,17,446,460,1319,38,198,3,629,1932,1227,1311,1316,2019,92,175,87,910,1426,69,305,1015,1095,200,1514,1009,288,932,821,91,599,1414,554,239,250,383,877,2,238,1047,509,44,466,188,518,25,887,67,175,322,299,383,7,430,31,894,1,406,376,2092,223,1315,23,333,1423,647,76,162,2,104,52,535,592,334,201,113,1255,256,1219,994,812,2,2,34,437,2,328,688,6,632,37,109,382,137,1,589,6,23,210,130,203,157,115,2,476,91,915,126,1056,921,784,84,526,3,34,2254,2,2,2,2,64,152,347,299,272,254,391,1,278,25,2,318,468,285,43,265,183,344,72,281,44,154,18,100,321,283,2,209,2,558,140,500,388,18,42,2,2,3,4,332,110,797,5763991,13,6000035,2800544,1324,549,333,444,1,2,80,1,900,896,1,9,2,2551,1,748,141,59,736,563,1,4265,1,1,2,1017,9,305,3299,248,661,204,65,10,37,1,11,1,41,23959825,53,2716085',kBL:'Ixri'};google.sn='webhp';google.kHL='en';})();(function(){google.lc=[];google.li=0;google.getEI=function(a){for(var c;a&&(!a.getAttribute||!(c=a.getAttribute(\"eid\")));)a=a.parentNode;return c||google.kEI};google.getLEI=function(a){for(var c=null;a&&(!a.getAttribute||!(c=a.getAttribute(\"leid\")));)a=a.parentNode;return c};google.ml=function(){return null};google.time=function(){return Date.now()};google.log=function(a,c,b,d,g){if(b=google.logUrl(a,c,b,d,g)){a=new Image;var e=google.lc,f=google.li;e[f]=a;a.onerror=a.onload=a.onabort=function(){delete e[f]};google.vel&&google.vel.lu&&google.vel.lu(b);a.src=b;google.li=f+1}};google.logUrl=function(a,c,b,d,g){var e=\"\",f=google.ls||\"\";b||-1!=c.search(\"&ei=\")||(e=\"&ei=\"+google.getEI(d),-1==c.search(\"&lei=\")&&(d=google.getLEI(d))&&(e+=\"&lei=\"+d));d=\"\";!b&&google.cshid&&-1==c.search(\"&cshid=\")&&\"slh\"!=a&&(d=\"&cshid=\"+google.cshid);b=b||\"/\"+(g||\"gen_204\")+\"?atyp=i&ct=\"+a+\"&cad=\"+c+e+f+\"&zx=\"+google.time()+d;/^http:/i.test(b)&&\"https:\"==window.location.protocol&&(google.ml(Error(\"a\"),!1,{src:b,glmm:1}),b=\"\");return b};}).call(this);(function(){google.y={};google.x=function(a,b){if(a)var c=a.id;else{do c=Math.random();while\n",
            "4096\n"
          ],
          "name": "stdout"
        }
      ]
    }
  ]
}