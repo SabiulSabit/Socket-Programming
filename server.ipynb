{
  "nbformat": 4,
  "nbformat_minor": 0,
  "metadata": {
    "colab": {
      "name": "server.ipynb",
      "provenance": [],
      "authorship_tag": "ABX9TyPFHK7NuQzUDbqsjB0ZrhOJ",
      "include_colab_link": true
    },
    "kernelspec": {
      "name": "python3",
      "display_name": "Python 3"
    }
  },
  "cells": [
    {
      "cell_type": "markdown",
      "metadata": {
        "id": "view-in-github",
        "colab_type": "text"
      },
      "source": [
        "<a href=\"https://colab.research.google.com/github/SabiulSabit/Socket-Programming/blob/master/server.ipynb\" target=\"_parent\"><img src=\"https://colab.research.google.com/assets/colab-badge.svg\" alt=\"Open In Colab\"/></a>"
      ]
    },
    {
      "cell_type": "code",
      "metadata": {
        "id": "qTXnOcxNwcJC",
        "colab_type": "code",
        "colab": {}
      },
      "source": [
        "from socket import * "
      ],
      "execution_count": 1,
      "outputs": []
    },
    {
      "cell_type": "markdown",
      "metadata": {
        "id": "OZMo7aLYwOnF",
        "colab_type": "text"
      },
      "source": [
        "## **Select Host & Port Number**"
      ]
    },
    {
      "cell_type": "code",
      "metadata": {
        "id": "zlpULYnMvhib",
        "colab_type": "code",
        "colab": {}
      },
      "source": [
        "host = \"127.0.0.1\"\n",
        "port=4446               # Sets the variable port to 4444"
      ],
      "execution_count": 6,
      "outputs": []
    },
    {
      "cell_type": "markdown",
      "metadata": {
        "id": "t1UrtlIdwmTz",
        "colab_type": "text"
      },
      "source": [
        "## **Create Socket**"
      ]
    },
    {
      "cell_type": "code",
      "metadata": {
        "id": "oZ_lj6PtwpKJ",
        "colab_type": "code",
        "colab": {}
      },
      "source": [
        "s=socket(AF_INET, SOCK_STREAM) "
      ],
      "execution_count": 4,
      "outputs": []
    },
    {
      "cell_type": "markdown",
      "metadata": {
        "id": "EmRpJ51ixTXC",
        "colab_type": "text"
      },
      "source": [
        "## **Establish Connection**"
      ]
    },
    {
      "cell_type": "code",
      "metadata": {
        "id": "ABZbBBT4xa3a",
        "colab_type": "code",
        "colab": {}
      },
      "source": [
        "s.connect((host,port))"
      ],
      "execution_count": null,
      "outputs": []
    },
    {
      "cell_type": "markdown",
      "metadata": {
        "id": "Rw1-qFHuyF6j",
        "colab_type": "text"
      },
      "source": [
        "## **Bind The Socket**"
      ]
    },
    {
      "cell_type": "code",
      "metadata": {
        "id": "BeDedkKDyMjj",
        "colab_type": "code",
        "colab": {}
      },
      "source": [
        "s.bind((host,port))  "
      ],
      "execution_count": null,
      "outputs": []
    },
    {
      "cell_type": "markdown",
      "metadata": {
        "id": "J0HuGV4oyjM_",
        "colab_type": "text"
      },
      "source": [
        "## **Listen**"
      ]
    },
    {
      "cell_type": "code",
      "metadata": {
        "id": "Z8NcidLmyoiT",
        "colab_type": "code",
        "colab": {}
      },
      "source": [
        "s.listen(5)   # Sets socket to listening state with a queue  \n",
        "print (\"Listening for connections.. \")                              "
      ],
      "execution_count": null,
      "outputs": []
    },
    {
      "cell_type": "markdown",
      "metadata": {
        "id": "gB-vw9Sd16rh",
        "colab_type": "text"
      },
      "source": [
        "## **Accept Incoming Request & Send Data**"
      ]
    },
    {
      "cell_type": "code",
      "metadata": {
        "id": "nvo1qL1W2HkQ",
        "colab_type": "code",
        "colab": {}
      },
      "source": [
        "q,addr=s.accept()  # returns socket and address to variables q and addr\n",
        "print(\"Connected with \"+addr[0]+ ':' + str(addr[1]))\n",
        "\n",
        "data=input(\"Enter data to be send:  \")  # Data to be sent is stored in variable data from\n",
        "                                           \n",
        "q.send(data.encode())                        # Sends data to client\n",
        "s.close()"
      ],
      "execution_count": null,
      "outputs": []
    }
  ]
}