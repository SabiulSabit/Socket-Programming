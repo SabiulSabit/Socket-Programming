{
  "nbformat": 4,
  "nbformat_minor": 0,
  "metadata": {
    "colab": {
      "name": "client.ipynb",
      "provenance": [],
      "authorship_tag": "ABX9TyPf0eUGEpyxS1F+2XLdnm8T",
      "include_colab_link": true
    },
    "kernelspec": {
      "name": "python3",
      "display_name": "Python 3"
    }
  },
  "cells": [
    {
      "cell_type": "markdown",
      "metadata": {
        "id": "view-in-github",
        "colab_type": "text"
      },
      "source": [
        "<a href=\"https://colab.research.google.com/github/SabiulSabit/Socket-Programming/blob/master/client.ipynb\" target=\"_parent\"><img src=\"https://colab.research.google.com/assets/colab-badge.svg\" alt=\"Open In Colab\"/></a>"
      ]
    },
    {
      "cell_type": "code",
      "metadata": {
        "id": "qTXnOcxNwcJC",
        "colab_type": "code",
        "colab": {}
      },
      "source": [
        "from socket import * "
      ],
      "execution_count": null,
      "outputs": []
    },
    {
      "cell_type": "markdown",
      "metadata": {
        "id": "OZMo7aLYwOnF",
        "colab_type": "text"
      },
      "source": [
        "## **Select Host & Port Number**"
      ]
    },
    {
      "cell_type": "code",
      "metadata": {
        "id": "zlpULYnMvhib",
        "colab_type": "code",
        "colab": {}
      },
      "source": [
        "host = \"127.0.0.1\"\n",
        "port=4446               # Sets the variable port to 4444"
      ],
      "execution_count": null,
      "outputs": []
    },
    {
      "cell_type": "markdown",
      "metadata": {
        "id": "t1UrtlIdwmTz",
        "colab_type": "text"
      },
      "source": [
        "## **Create Socket**"
      ]
    },
    {
      "cell_type": "code",
      "metadata": {
        "id": "oZ_lj6PtwpKJ",
        "colab_type": "code",
        "colab": {}
      },
      "source": [
        "s=socket(AF_INET, SOCK_STREAM) "
      ],
      "execution_count": null,
      "outputs": []
    },
    {
      "cell_type": "markdown",
      "metadata": {
        "id": "EmRpJ51ixTXC",
        "colab_type": "text"
      },
      "source": [
        "## **Establish Connection**"
      ]
    },
    {
      "cell_type": "code",
      "metadata": {
        "id": "ABZbBBT4xa3a",
        "colab_type": "code",
        "colab": {}
      },
      "source": [
        "s.connect((host,port))  "
      ],
      "execution_count": null,
      "outputs": []
    },
    {
      "cell_type": "markdown",
      "metadata": {
        "id": "FDLKXhQn3ld9",
        "colab_type": "text"
      },
      "source": [
        "## **Receives data upto 1024 bytes**"
      ]
    },
    {
      "cell_type": "code",
      "metadata": {
        "id": "XkBrY8HZ3oCD",
        "colab_type": "code",
        "colab": {}
      },
      "source": [
        "msg = s.recv(1024)          \n",
        "print (\"Message from server : \" + msg.decode())\n",
        "s.close()   "
      ],
      "execution_count": null,
      "outputs": []
    }
  ]
}